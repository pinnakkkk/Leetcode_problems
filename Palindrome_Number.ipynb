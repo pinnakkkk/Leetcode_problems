{
 "cells": [
  {
   "cell_type": "code",
   "execution_count": 1,
   "id": "912a7d4a-09a1-45c8-b840-58f7d0a1083b",
   "metadata": {},
   "outputs": [],
   "source": [
    "#2 Palindrome Number\n",
    "\n",
    "'''Given an integer x, return true if x is palindrome integer.\n",
    "\n",
    "An integer is a palindrome when it reads the same backward as forward.\n",
    "\n",
    "For example, 121 is a palindrome while 123 is not.'''\n",
    "\n",
    "\n",
    "class Solution(object):\n",
    "    def isPalindrome(self, x):\n",
    "        num = x\n",
    "        res_num = 0\n",
    "        if num > 0:\n",
    "            while num!= 0:\n",
    "                digit = num % 10\n",
    "                res_num = res_num * 10 + digit\n",
    "                num = num // 10\n",
    "\n",
    "        if x == res_num:\n",
    "            return True"
   ]
  }
 ],
 "metadata": {
  "kernelspec": {
   "display_name": "Python 3 (ipykernel)",
   "language": "python",
   "name": "python3"
  },
  "language_info": {
   "codemirror_mode": {
    "name": "ipython",
    "version": 3
   },
   "file_extension": ".py",
   "mimetype": "text/x-python",
   "name": "python",
   "nbconvert_exporter": "python",
   "pygments_lexer": "ipython3",
   "version": "3.8.10"
  }
 },
 "nbformat": 4,
 "nbformat_minor": 5
}
