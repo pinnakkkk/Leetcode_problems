{
 "cells": [
  {
   "cell_type": "code",
   "execution_count": null,
   "id": "bc95de76-4029-47a3-b149-5caab1c99e78",
   "metadata": {},
   "outputs": [],
   "source": [
    "# 3 Robot return to origin\n",
    "'''There is a robot starting at the position (0, 0), the origin, on a 2D plane. \n",
    "Given a sequence of its moves, judge if this robot ends up at (0, 0) after it completes its moves.'''\n",
    "\n",
    "class Solution(object):\n",
    "    def judgeCircle(self, moves):\n",
    "        x = y = 0\n",
    "        for move in moves:\n",
    "            if move == 'U': y -= 1\n",
    "            elif move == 'D': y += 1\n",
    "            elif move == 'L': x -= 1\n",
    "            elif move == 'R': x += 1\n",
    "\n",
    "        return x == y == 0\n",
    "        "
   ]
  },
  {
   "cell_type": "code",
   "execution_count": null,
   "id": "e82f5b28-341e-4e01-8bed-bb924e4761a6",
   "metadata": {},
   "outputs": [],
   "source": []
  }
 ],
 "metadata": {
  "kernelspec": {
   "display_name": "Python 3 (ipykernel)",
   "language": "python",
   "name": "python3"
  },
  "language_info": {
   "codemirror_mode": {
    "name": "ipython",
    "version": 3
   },
   "file_extension": ".py",
   "mimetype": "text/x-python",
   "name": "python",
   "nbconvert_exporter": "python",
   "pygments_lexer": "ipython3",
   "version": "3.8.10"
  }
 },
 "nbformat": 4,
 "nbformat_minor": 5
}
